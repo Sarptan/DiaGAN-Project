{
 "cells": [
  {
   "cell_type": "code",
   "execution_count": 15,
   "metadata": {},
   "outputs": [],
   "source": [
    "from utils.data_loader import load_MNISTdata, get_colored_mnist_dataloader"
   ]
  },
  {
   "cell_type": "code",
   "execution_count": 1,
   "metadata": {},
   "outputs": [],
   "source": [
    "import torch.nn as nn\n",
    "\n",
    "class MNISTClassifier(nn.Module):\n",
    "    def __init__(self):\n",
    "        super().__init__()\n",
    "        self.features = nn.Sequential(\n",
    "            nn.Conv2d(1, 32, 3, padding=1),  # 28x28 → 28x28\n",
    "            nn.ReLU(),\n",
    "            nn.MaxPool2d(2),  # 28x28 → 14x14\n",
    "\n",
    "            nn.Conv2d(32, 64, 3, padding=1),  # 14x14 → 14x14\n",
    "            nn.ReLU(),\n",
    "            nn.MaxPool2d(2),  # 14x14 → 7x7\n",
    "        )\n",
    "        self.classifier = nn.Sequential(\n",
    "            nn.Flatten(),\n",
    "            nn.Linear(64 * 7 * 7, 128),\n",
    "            nn.ReLU(),\n",
    "            nn.Linear(128, 10)\n",
    "        )\n",
    "\n",
    "    def forward(self, x):\n",
    "        feats = self.features(x)\n",
    "        logits = self.classifier(feats)\n",
    "        return logits, feats.view(x.size(0), -1)  # logits, feature_vector\n"
   ]
  },
  {
   "cell_type": "code",
   "execution_count": 8,
   "metadata": {},
   "outputs": [],
   "source": [
    "import torch\n",
    "from torchvision import datasets, transforms\n",
    "from torch.utils.data import DataLoader\n",
    "\n",
    "def train_mnist_classifier(n_epochs=5, save_path=\"mnist_classifier.pth\"):\n",
    "    device = torch.device(\"cuda\" if torch.cuda.is_available() else \"cpu\")\n",
    "\n",
    "    transform = transforms.Compose([\n",
    "        transforms.ToTensor(),\n",
    "        transforms.Normalize((0.5,), (0.5,))\n",
    "    ])\n",
    "\n",
    "    train_ds = datasets.MNIST(root=\"./data\", train=True, download=True, transform=transform)\n",
    "    test_ds = datasets.MNIST(root=\"./data\", train=False, download=True, transform=transform)\n",
    "    train_loader = DataLoader(train_ds, batch_size=64, shuffle=True)\n",
    "    test_loader = DataLoader(test_ds, batch_size=64)\n",
    "\n",
    "    model = MNISTClassifier().to(device)\n",
    "    optimizer = torch.optim.Adam(model.parameters(), lr=0.001)\n",
    "    criterion = nn.CrossEntropyLoss()\n",
    "\n",
    "    print(\"📚 Training MNIST classifier...\")\n",
    "    for epoch in range(n_epochs):\n",
    "        model.train()\n",
    "        for x, y in train_loader:\n",
    "            x, y = x.to(device), y.to(device)\n",
    "            out, _ = model(x)\n",
    "            loss = criterion(out, y)\n",
    "\n",
    "            optimizer.zero_grad()\n",
    "            loss.backward()\n",
    "            optimizer.step()\n",
    "        print(f\"Epoch {epoch+1}/{n_epochs} ✅ Loss: {loss.item():.4f}\")\n",
    "\n",
    "    # Evaluate\n",
    "    model.eval()\n",
    "    correct = 0\n",
    "    total = 0\n",
    "    with torch.no_grad():\n",
    "        for x, y in test_loader:\n",
    "            x, y = x.to(device), y.to(device)\n",
    "            out, _ = model(x)\n",
    "            pred = out.argmax(dim=1)\n",
    "            correct += (pred == y).sum().item()\n",
    "            total += y.size(0)\n",
    "    acc = correct / total\n",
    "    print(f\"✅ Test Accuracy: {acc*100:.2f}%\")\n",
    "\n",
    "    torch.save(model.state_dict(), save_path)\n",
    "    print(f\"💾 Saved classifier to {save_path}\")\n",
    "    return model\n"
   ]
  },
  {
   "cell_type": "code",
   "execution_count": null,
   "metadata": {},
   "outputs": [],
   "source": []
  },
  {
   "cell_type": "code",
   "execution_count": 11,
   "metadata": {},
   "outputs": [
    {
     "name": "stdout",
     "output_type": "stream",
     "text": [
      "📚 Training MNIST classifier...\n",
      "Epoch 1/5 ✅ Loss: 0.0033\n",
      "Epoch 2/5 ✅ Loss: 0.1449\n",
      "Epoch 3/5 ✅ Loss: 0.0001\n",
      "Epoch 4/5 ✅ Loss: 0.0030\n",
      "Epoch 5/5 ✅ Loss: 0.0004\n",
      "✅ Test Accuracy: 99.19%\n",
      "💾 Saved classifier to mnist_classifier.pth\n"
     ]
    }
   ],
   "source": [
    "classifier = train_mnist_classifier(n_epochs=5)"
   ]
  },
  {
   "cell_type": "code",
   "execution_count": 13,
   "metadata": {},
   "outputs": [],
   "source": [
    "import torch.nn as nn\n",
    "\n",
    "class ColoredMNISTClassifier(nn.Module):\n",
    "    def __init__(self):\n",
    "        super().__init__()\n",
    "        self.features = nn.Sequential(\n",
    "            nn.Conv2d(3, 32, 3, padding=1),  # 28x28 → 28x28\n",
    "            nn.ReLU(),\n",
    "            nn.MaxPool2d(2),  # 28x28 → 14x14\n",
    "\n",
    "            nn.Conv2d(32, 64, 3, padding=1),  # 14x14 → 14x14\n",
    "            nn.ReLU(),\n",
    "            nn.MaxPool2d(2),  # 14x14 → 7x7\n",
    "        )\n",
    "        self.classifier = nn.Sequential(\n",
    "            nn.Flatten(),\n",
    "            nn.Linear(64 * 7 * 7, 128),\n",
    "            nn.ReLU(),\n",
    "            nn.Linear(128, 10)\n",
    "        )\n",
    "\n",
    "    def forward(self, x):\n",
    "        feats = self.features(x)\n",
    "        logits = self.classifier(feats)\n",
    "        return logits, feats.view(x.size(0), -1)  # logits, feature_vector\n"
   ]
  },
  {
   "cell_type": "code",
   "execution_count": 1,
   "metadata": {},
   "outputs": [],
   "source": [
    "from torch.utils.data import DataLoader\n",
    "import torch.nn.functional as F\n",
    "\n",
    "def train_colored_mnist_classifier(train_loader, n_epochs=5, save_path=\"colored_mnist_classifier.pth\"):\n",
    "    device = torch.device(\"cuda\" if torch.cuda.is_available() else \"cpu\")\n",
    "\n",
    "    \n",
    "    model = ColoredMNISTClassifier().to(device)\n",
    "    optimizer = torch.optim.Adam(model.parameters(), lr=0.001)\n",
    "    criterion = nn.CrossEntropyLoss()\n",
    "\n",
    "    print(\"Training Colored MNIST Classifier...\")\n",
    "    for epoch in range(n_epochs):\n",
    "        model.train()\n",
    "        total_loss = 0\n",
    "        for x, y in train_loader:\n",
    "            x, y = x.to(device), y.to(device)\n",
    "            out, _ = model(x)\n",
    "            loss = criterion(out, y)\n",
    "\n",
    "            optimizer.zero_grad()\n",
    "            loss.backward()\n",
    "            optimizer.step()\n",
    "            total_loss += loss.item()\n",
    "\n",
    "        avg_loss = total_loss / len(train_loader)\n",
    "        print(f\"Epoch {epoch+1}/{n_epochs} Loss: {avg_loss:.4f}\")\n",
    "\n",
    "    # Optional: Save model\n",
    "    torch.save(model.state_dict(), save_path)\n",
    "    print(f\"Saved classifier to {save_path}\")\n",
    "    return model\n"
   ]
  },
  {
   "cell_type": "code",
   "execution_count": 17,
   "metadata": {},
   "outputs": [],
   "source": [
    "train_loader, _ = load_MNISTdata()  # Load MNIST using your function\n",
    "colored_mnist_loader = get_colored_mnist_dataloader(train_loader.dataset, batch_size=128, minority_ratio=0.5)\n"
   ]
  },
  {
   "cell_type": "code",
   "execution_count": null,
   "metadata": {},
   "outputs": [
    {
     "name": "stdout",
     "output_type": "stream",
     "text": [
      "Training Colored MNIST Classifier...\n",
      "Epoch 1/10 Loss: 0.3019\n",
      "Epoch 2/10 Loss: 0.0760\n",
      "Epoch 3/10 Loss: 0.0529\n",
      "Epoch 4/10 Loss: 0.0404\n",
      "Epoch 5/10 Loss: 0.0336\n",
      "Epoch 6/10 Loss: 0.0257\n"
     ]
    }
   ],
   "source": [
    "classifier = train_colored_mnist_classifier(colored_mnist_loader, n_epochs=10)\n"
   ]
  }
 ],
 "metadata": {
  "kernelspec": {
   "display_name": "GNN_env",
   "language": "python",
   "name": "python3"
  },
  "language_info": {
   "codemirror_mode": {
    "name": "ipython",
    "version": 3
   },
   "file_extension": ".py",
   "mimetype": "text/x-python",
   "name": "python",
   "nbconvert_exporter": "python",
   "pygments_lexer": "ipython3",
   "version": "3.10.0"
  }
 },
 "nbformat": 4,
 "nbformat_minor": 2
}
