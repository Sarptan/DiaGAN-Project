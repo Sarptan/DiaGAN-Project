{
 "cells": [
  {
   "cell_type": "markdown",
   "metadata": {},
   "source": [
    "1) Structure the project\n",
    "2) Implement a function for adjusting the minority rate\n",
    "3) Implement GAN architectures based on MLP, CNN and Spectral Normalization\n",
    "4) Try these out on regular uncolored MNIST\n",
    "5) Implement functions for evaluation metrics \n",
    "51) Fréchet Inception Distance (FID) \n",
    "52) Inception Score (IS) \n",
    "53) Precision and Recall (P&R) \n",
    "6) Evaluate generated images from all trained models\n",
    "7) Inspect the LDRM and LDRV values of each group (major and minor) during training. \n",
    "8) Plot the LDRM and LDRV values given the minority ratio.\n",
    "9) Showcase the effectiveness of LDRM and LDRV on minoity detection.\n",
    "\n",
    "10) Implemented a Weighted Smapler class for score based training\n",
    "11) Implement the score based training function.\n"
   ]
  }
 ],
 "metadata": {
  "language_info": {
   "name": "python"
  }
 },
 "nbformat": 4,
 "nbformat_minor": 2
}
